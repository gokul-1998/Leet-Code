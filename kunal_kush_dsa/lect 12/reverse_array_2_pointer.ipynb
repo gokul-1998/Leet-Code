{
 "cells": [
  {
   "cell_type": "code",
   "execution_count": 1,
   "id": "a03dbdf4",
   "metadata": {},
   "outputs": [
    {
     "name": "stdout",
     "output_type": "stream",
     "text": [
      "[9, 7, 5, 2, 1]\n",
      "[12, 10, 8, 4, 3, 1]\n"
     ]
    }
   ],
   "source": [
    "# reverse an array with 2 pointer method\n",
    "\n",
    "x=[1,2,5,7,9]#odd length\n",
    "y=[1,3,4,8,10,12] # even length\n",
    "\n",
    "def swap(arr,ind1,ind2):\n",
    "    temp=arr[ind1]\n",
    "    arr[ind1]=arr[ind2]\n",
    "    arr[ind2]=temp\n",
    "    return arr\n",
    "\n",
    "def reverse(arr):\n",
    "    start=0\n",
    "    end=len(arr)-1\n",
    "    while end>start:\n",
    "        swap(arr,start,end)\n",
    "        start+=1\n",
    "        end-=1\n",
    "    return arr\n",
    "\n",
    "\n",
    "print(reverse(x))\n",
    "print(reverse(y))\n",
    "\n"
   ]
  },
  {
   "cell_type": "markdown",
   "id": "44538e2b",
   "metadata": {},
   "source": [
    "Good question 👍\n",
    "\n",
    "Let’s carefully look at this part of your function:\n",
    "\n",
    "```python\n",
    "while end > start:\n",
    "    swap(arr, start, end)\n",
    "    start += 1\n",
    "    end -= 1\n",
    "```\n",
    "\n",
    "---\n",
    "\n",
    "### Why `>` instead of `>=`?\n",
    "\n",
    "1. **What the loop does:**\n",
    "   The loop swaps the element at `start` with the element at `end`.\n",
    "   Then, `start` moves forward, and `end` moves backward.\n",
    "\n",
    "2. **When `start == end`:**\n",
    "\n",
    "   * This happens in the middle of the array if its length is **odd**.\n",
    "   * Example: `[1, 2, 3, 4, 5]`\n",
    "\n",
    "     * After some swaps, eventually `start = end = 2` (the middle element).\n",
    "     * If the loop used `>=`, it would try to swap `arr[2]` with itself.\n",
    "\n",
    "       * That’s unnecessary work, because the middle element stays in the same place.\n",
    "\n",
    "3. **When `start > end`:**\n",
    "\n",
    "   * This happens after finishing all needed swaps.\n",
    "   * Example: `[1, 2, 3, 4]`\n",
    "\n",
    "     * After swapping `(0,3)` and `(1,2)`, now `start = 2`, `end = 1`.\n",
    "     * At this point, the array is already reversed.\n",
    "   * If you allowed `>=`, you’d enter the loop when `start == end` (unnecessary) or even risk bad logic if not careful.\n",
    "\n",
    "---\n",
    "\n",
    "✅ So the condition `end > start` ensures:\n",
    "\n",
    "* Each pair of elements is swapped exactly once.\n",
    "* The loop stops cleanly when pointers cross or meet.\n",
    "* No redundant self-swapping happens.\n",
    "\n",
    "---\n",
    "\n",
    "👉 If you **did use `>=`**, the function would still *work correctly* (since swapping an element with itself doesn’t break anything). It’s just **less efficient** because it performs one useless swap in the odd-length case.\n",
    "\n"
   ]
  },
  {
   "cell_type": "code",
   "execution_count": null,
   "id": "e1966ff4",
   "metadata": {},
   "outputs": [],
   "source": []
  }
 ],
 "metadata": {
  "kernelspec": {
   "display_name": "Python 3",
   "language": "python",
   "name": "python3"
  },
  "language_info": {
   "codemirror_mode": {
    "name": "ipython",
    "version": 3
   },
   "file_extension": ".py",
   "mimetype": "text/x-python",
   "name": "python",
   "nbconvert_exporter": "python",
   "pygments_lexer": "ipython3",
   "version": "3.10.12"
  }
 },
 "nbformat": 4,
 "nbformat_minor": 5
}
