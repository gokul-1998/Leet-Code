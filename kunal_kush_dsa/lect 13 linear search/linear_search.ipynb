{
 "cells": [
  {
   "cell_type": "code",
   "execution_count": null,
   "id": "cd004c65",
   "metadata": {},
   "outputs": [],
   "source": [
    "nums=[23,45,1,2,8,19,-3,16,-11,28]\n",
    "target=19\n",
    "\n",
    "\n",
    "def linear_search(nums,target):\n",
    "    if len(nums)==0:\n",
    "        return -1\n",
    "    for i in range(len(nums)):\n",
    "        if nums[i]==target:\n",
    "            return i\n",
    "    return -1\n",
    "\n",
    "print(linear_search(nums,target))\n",
    "print(linear_search(nums,target=111))\n",
    "\n"
   ]
  },
  {
   "cell_type": "code",
   "execution_count": null,
   "id": "df550bc5",
   "metadata": {},
   "outputs": [],
   "source": []
  }
 ],
 "metadata": {
  "kernelspec": {
   "display_name": "Python 3",
   "language": "python",
   "name": "python3"
  },
  "language_info": {
   "codemirror_mode": {
    "name": "ipython",
    "version": 3
   },
   "file_extension": ".py",
   "mimetype": "text/x-python",
   "name": "python",
   "nbconvert_exporter": "python",
   "pygments_lexer": "ipython3",
   "version": "3.10.12"
  }
 },
 "nbformat": 4,
 "nbformat_minor": 5
}
