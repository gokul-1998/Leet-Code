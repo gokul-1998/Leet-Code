{
 "cells": [
  {
   "cell_type": "markdown",
   "id": "4b6eb441",
   "metadata": {},
   "source": [
    "# Hints\n",
    "    - When to apply binary search\n",
    "        - sorted array , apply binary search"
   ]
  },
  {
   "cell_type": "code",
   "execution_count": 9,
   "id": "6e36fea7",
   "metadata": {},
   "outputs": [
    {
     "name": "stdout",
     "output_type": "stream",
     "text": [
      "done\n"
     ]
    }
   ],
   "source": [
    "# find_the_smallest_number_that_is_greater_than_or_equal_to_the_given_number.py\n",
    "\n",
    "lis=[2,3,5,9,14,16,18]\n",
    "\n",
    "def ceil_of_a_number(lis,target=15):\n",
    "    start=0\n",
    "    end=len(lis)-1\n",
    "    while start<=end:\n",
    "        mid=start+(end-start)//2\n",
    "        if lis[mid]==target:\n",
    "            return target\n",
    "        elif lis[mid]<target:\n",
    "            start=mid+1\n",
    "        else:\n",
    "            end=mid-1\n",
    "    return lis[start]\n",
    "\n",
    "assert(ceil_of_a_number(lis,2)==2)\n",
    "assert(ceil_of_a_number(lis,6)==9)\n",
    "assert(ceil_of_a_number(lis,15)==16)\n",
    "assert(ceil_of_a_number(lis,18)==18)\n",
    "print(\"done\")\n"
   ]
  },
  {
   "cell_type": "code",
   "execution_count": 10,
   "id": "4ef728dc",
   "metadata": {},
   "outputs": [
    {
     "name": "stdout",
     "output_type": "stream",
     "text": [
      "done\n"
     ]
    }
   ],
   "source": [
    "# find the floor of a number, (biggest number smaller than or equal to the target)\n",
    "\n",
    "lis=[2,3,5,9,14,16,18]\n",
    "\n",
    "def floor_of_a_number(lis,target):\n",
    "    start=0\n",
    "    end=len(lis)-1\n",
    "    while start<=end:\n",
    "        mid=start+(end-start)//2\n",
    "        if target==lis[mid]:\n",
    "            return target\n",
    "        if lis[mid]<target:\n",
    "            start=mid+1\n",
    "        else:\n",
    "            end=mid-1\n",
    "    return lis[end]\n",
    "\n",
    "\n",
    "\n",
    "assert(floor_of_a_number(lis,2)==2)\n",
    "assert(floor_of_a_number(lis,6)==5)\n",
    "assert(floor_of_a_number(lis,15)==14)\n",
    "assert(floor_of_a_number(lis,18)==18)\n",
    "print(\"done\")\n"
   ]
  },
  {
   "cell_type": "code",
   "execution_count": null,
   "id": "71924644",
   "metadata": {},
   "outputs": [],
   "source": [
    "# Find smallest letter Greater than Target\n",
    "#  https://leetcode.com/problems/find-smallest-letter-greater-than-target/description/\n",
    "\n",
    "def next_greater_letter(letters,target):\n",
    "    start=0\n",
    "    end=len(letters)-1\n",
    "    while start<=end:\n",
    "        mid=start+(end-start)//2\n",
    "        if target<letters[mid]:\n",
    "            end=mid-1\n",
    "        else:\n",
    "            start=mid+1\n",
    "    return letters[start%len(letters)] # if the target is greater than all the letters, we should wrap around, in such a case start will be equal to len(letters) and it will throw index out of bound error, so we need to use module to get to the starting letter.\n",
    "\n",
    "\n"
   ]
  },
  {
   "cell_type": "markdown",
   "id": "6bd7db72",
   "metadata": {},
   "source": [
    "# why the return uses module\n",
    "Good question 👍\n",
    "\n",
    "Let’s carefully break it down.\n",
    "\n",
    "Your function is solving **LeetCode 744 – Find Smallest Letter Greater Than Target**.\n",
    "The letters array is **sorted in non-decreasing order** and considered **circular**.\n",
    "That means if the target is greater than or equal to the last element, you should \"wrap around\" and return the first letter.\n",
    "\n",
    "---\n",
    "\n",
    "### The binary search part\n",
    "\n",
    "```python\n",
    "while start <= end:\n",
    "    mid = start + (end - start) // 2\n",
    "    if target < letters[mid]:\n",
    "        end = mid - 1\n",
    "    else:\n",
    "        start = mid + 1\n",
    "```\n",
    "\n",
    "At the end of this loop:\n",
    "\n",
    "* `start` will point to the **first index where letters\\[start] > target**, if such an index exists.\n",
    "* If all letters are ≤ target, then `start` will become `len(letters)` (out of range).\n",
    "\n",
    "---\n",
    "\n",
    "### The return statement\n",
    "\n",
    "```python\n",
    "return letters[start % len(letters)]\n",
    "```\n",
    "\n",
    "Why `start % len(letters)`?\n",
    "\n",
    "1. **Case 1 – target is smaller than some letters**\n",
    "   Example: `letters = [\"c\",\"f\",\"j\"], target = \"d\"`\n",
    "\n",
    "   * Binary search ends with `start = 1` (`letters[1] = \"f\"`)\n",
    "   * `start % len(letters) = 1 % 3 = 1` → returns `\"f\"` ✅\n",
    "\n",
    "2. **Case 2 – target is ≥ all letters**\n",
    "   Example: `letters = [\"c\",\"f\",\"j\"], target = \"j\"`\n",
    "\n",
    "   * Binary search ends with `start = 3` (out of bounds)\n",
    "   * `start % len(letters) = 3 % 3 = 0` → returns `\"c\"` (wrap-around) ✅\n",
    "\n",
    "Without the modulo, you’d try to access `letters[3]`, which causes an **IndexError**.\n",
    "So the modulo is a **wrap-around mechanism**.\n",
    "\n",
    "---\n",
    "\n",
    "✅ **In short**:\n",
    "`start % len(letters)` ensures the array access is always valid.\n",
    "It also implements the \"circular array\" behavior required by the problem.\n",
    "\n",
    "---\n",
    "\n"
   ]
  },
  {
   "cell_type": "code",
   "execution_count": null,
   "id": "122c5e9c",
   "metadata": {},
   "outputs": [],
   "source": [
    "# 34. Find First and Last Position of Element in Sorted Array\n",
    "\n",
    "# step 1 ) find first occurance of 7\n",
    "\n",
    "def first_and_last_position(lis,target):\n",
    "    init_ans=[-1,-1]\n",
    "\n",
    "    # check for first occurance of target first\n",
    "\n",
    "    def search(lis,target,findstartindex):\n",
    "        ans=-1\n",
    "        start=0\n",
    "        end=len(lis)-1\n",
    "        while start<=end:\n",
    "            mid=start + (end-start)//2\n",
    "            if target<nums[mid]:\n",
    "                end=mid-1\n",
    "            elif target>nums[mid]:\n",
    "                start=mid+1\n",
    "            else:\n",
    "                ans=mid\n",
    "                if findstartindex:\n",
    "                    end=mid-1\n",
    "                else:\n",
    "                    start=mid+1\n",
    "        return ans\n",
    "\n",
    "    init_ans[0]=search(lis,target,True)\n",
    "    init_ans[1]=search(lis,target,False)\n",
    "\n"
   ]
  },
  {
   "cell_type": "markdown",
   "id": "8dee9ea3",
   "metadata": {},
   "source": [
    "# find position of an element in a sorted array of infinite numbers\n",
    "- first take 2 numbers , see if target is in between those two numbers\n",
    "- then increase the search window by 4, then by 8, then by 16, this way you will get the start index and end index.\n",
    "- once the start and end index is found, do a binary search"
   ]
  },
  {
   "cell_type": "code",
   "execution_count": 20,
   "id": "4de8fd5c",
   "metadata": {},
   "outputs": [
    {
     "name": "stdout",
     "output_type": "stream",
     "text": [
      "13\n",
      "-1\n"
     ]
    }
   ],
   "source": [
    "def infinite_array_binary_search(arr, target):\n",
    "    def ans(arr, target):\n",
    "        start, end = 0, 1\n",
    "\n",
    "        # Expand the window but cap at last index\n",
    "        while end < len(arr) and target > arr[end]:\n",
    "            size_of_box = end - start + 1\n",
    "            start = end + 1\n",
    "            end = end + (size_of_box * 2)\n",
    "            if end >= len(arr):   # cap at last index\n",
    "                end = len(arr) - 1\n",
    "                break  # prevent infinite loop\n",
    "\n",
    "        return binary_search(arr, target, start, end)\n",
    "\n",
    "    def binary_search(arr, target, start, end):\n",
    "        while start <= end:\n",
    "            mid = start + (end - start) // 2\n",
    "            if arr[mid] == target:\n",
    "                return mid\n",
    "            elif arr[mid] < target:\n",
    "                start = mid + 1\n",
    "            else:\n",
    "                end = mid - 1\n",
    "        return -1\n",
    "\n",
    "    return ans(arr, target)\n",
    "\n",
    "# Example: target exists\n",
    "print(infinite_array_binary_search(\n",
    "    [1,2,4,5,8,10,12,15,17,19,22,26,28,30,31,36], 30))  # 13\n",
    "\n",
    "# Example: target not present and larger than all elements\n",
    "print(infinite_array_binary_search(\n",
    "    [1,2,4,5,8,10,12,15,17,19,22,26,28,30,31,36], 100))  # -1\n"
   ]
  },
  {
   "cell_type": "code",
   "execution_count": null,
   "id": "783c43c3",
   "metadata": {},
   "outputs": [],
   "source": [
    "# 852 Find Peak index in Mountain Array (it does not contain duplicates either)\n",
    "# https://leetcode.com/problems/peak-index-in-a-mountain-array/submissions/1773869454/\n",
    "# solution idea\n",
    "    # - if lis[mid]>lis[mid+1] -> \n",
    "        #  then we are in the decreasing part of the array ,\n",
    "        #  so check in left, end=mid (here we dont know if previous elem is greater than the mid, it can be less too, so if we take end=mid-1, we might loose the current mid which might be the highest)\n",
    "    # if lis[mid]<lis[mid+1]-> \n",
    "        # we are in increasing part of the array, \n",
    "        # so check right, start=mid+1 (we know that next element is greater , so we take mid+1)\n",
    "    # when will loop break?\n",
    "        # in the end,start and end both will point to the largest number which will be the answer.\n",
    "\n",
    "\n",
    "lis=[1,2,3,4,5,6,4,3,2]\n",
    "\n",
    "def mountain_array(lis):\n",
    "    start=0\n",
    "    end=len(lis)-1\n",
    "    while start<end:\n",
    "        mid=start+(end-start)//2\n",
    "        if lis[mid]>lis[mid+1]:\n",
    "            # you are in decreasing part of mountain, this may be the answer , but look left.\n",
    "            # this is why end!=mid-1\n",
    "            end=mid\n",
    "        else:\n",
    "            # you are in ascending part of array\n",
    "\n",
    "            start=mid+1# because we know that mid+1 element is greated than mid element (check the condition in if)\n",
    "\n",
    "    # in the end start and end are going to point to the largest number because of the 2 checks above\n",
    "    # start and end are always trying to find the max element in the  above 2 checks, \n",
    "    # hence when they are pointing to just one element, that is the max one, because that is what the checks say\n",
    "    # more elaboration: at every point of time for start and end , they have the best possible answer till that time and if we are saying that only one item is remaining, hence because of the above line , that is the best possible answer.\n",
    "\n",
    "    return start # or end\n",
    "\n"
   ]
  },
  {
   "cell_type": "markdown",
   "id": "084008da",
   "metadata": {},
   "source": [
    "# 1095. Find in Mountain Array\n",
    "\n",
    "https://leetcode.com/problems/find-in-mountain-array/description/"
   ]
  },
  {
   "cell_type": "code",
   "execution_count": null,
   "id": "764e2042",
   "metadata": {},
   "outputs": [],
   "source": []
  },
  {
   "cell_type": "markdown",
   "id": "b3ef3598",
   "metadata": {},
   "source": []
  }
 ],
 "metadata": {
  "kernelspec": {
   "display_name": "Python 3",
   "language": "python",
   "name": "python3"
  },
  "language_info": {
   "codemirror_mode": {
    "name": "ipython",
    "version": 3
   },
   "file_extension": ".py",
   "mimetype": "text/x-python",
   "name": "python",
   "nbconvert_exporter": "python",
   "pygments_lexer": "ipython3",
   "version": "3.10.12"
  }
 },
 "nbformat": 4,
 "nbformat_minor": 5
}
