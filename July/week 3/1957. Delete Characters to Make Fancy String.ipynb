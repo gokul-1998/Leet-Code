{
 "cells": [
  {
   "cell_type": "markdown",
   "id": "034cdde6",
   "metadata": {},
   "source": [
    "https://leetcode.com/problems/delete-characters-to-make-fancy-string/?envType=daily-question&envId=2025-07-21"
   ]
  },
  {
   "cell_type": "markdown",
   "id": "39ac808a",
   "metadata": {},
   "source": [
    "# Trivial Solution\n"
   ]
  },
  {
   "cell_type": "code",
   "execution_count": 1,
   "id": "b1751161",
   "metadata": {},
   "outputs": [],
   "source": [
    "class Solution:\n",
    "    def makeFancyString(self, s: str) -> str:\n",
    "        op=\"\"\n",
    "        for i in range(len(s)-2):\n",
    "            if s[i]==s[i+1] and s[i]==s[i+2]:\n",
    "                continue\n",
    "            else:\n",
    "                op+=s[i]\n",
    "        return op+s[-2:]\n"
   ]
  },
  {
   "cell_type": "markdown",
   "id": "6a28c0cc",
   "metadata": {},
   "source": [
    "# more efficient"
   ]
  },
  {
   "cell_type": "code",
   "execution_count": null,
   "id": "b43e1f17",
   "metadata": {},
   "outputs": [],
   "source": [
    "class Solution:\n",
    "    def makeFancyString(self, s: str) -> str:\n",
    "        if len(s) < 3:\n",
    "            return s\n",
    "        \n",
    "        op = [s[0], s[1]]  # Start with first two characters\n",
    "\n",
    "        for i in range(2, len(s)):\n",
    "            if s[i] == op[-1] == op[-2]:\n",
    "                continue\n",
    "            op.append(s[i])\n",
    "        \n",
    "        return ''.join(op)\n"
   ]
  }
 ],
 "metadata": {
  "kernelspec": {
   "display_name": "Python 3",
   "language": "python",
   "name": "python3"
  },
  "language_info": {
   "codemirror_mode": {
    "name": "ipython",
    "version": 3
   },
   "file_extension": ".py",
   "mimetype": "text/x-python",
   "name": "python",
   "nbconvert_exporter": "python",
   "pygments_lexer": "ipython3",
   "version": "3.11.0rc1"
  }
 },
 "nbformat": 4,
 "nbformat_minor": 5
}
