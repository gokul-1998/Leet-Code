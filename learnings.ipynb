{
 "cells": [
  {
   "cell_type": "code",
   "execution_count": null,
   "metadata": {},
   "outputs": [],
   "source": [
    "# how would you find an anagra?\n",
    "a=\"cct\"\n",
    "b=\"ttc\"\n",
    "\n",
    "def isanagram(a, b):\n",
    "    # check if the lengths are equal\n",
    "    if len(a) != len(b):\n",
    "        return False\n",
    "    # sort the characters of both strings and compare\n",
    "    return sorted(a) == sorted(b)\n",
    "\n"
   ]
  },
  {
   "cell_type": "markdown",
   "metadata": {},
   "source": [
    "# diff between sort and sorted\n",
    " - sort is a method of list\n",
    " - sorted is a built-in function that can take any iterable\n",
    " - sort returns None\n",
    " - sorted returns a new sorted list\n",
    " - sort is in place, it modifies the same list\n",
    " - sorted is not in place , it creates a new sorted list "
   ]
  },
  {
   "cell_type": "markdown",
   "metadata": {},
   "source": [
    "# Default Dict\n"
   ]
  },
  {
   "cell_type": "code",
   "execution_count": null,
   "metadata": {},
   "outputs": [
    {
     "name": "stdout",
     "output_type": "stream",
     "text": [
      "KeyError: 'key' does not exist in normal_dict\n",
      "0\n",
      "[]\n"
     ]
    }
   ],
   "source": [
    "# defaultdict is a subclass of the built-in dict class. It overrides one method to provide a default value for a nonexistent key, so that you don't have to check for the existence of a key before accessing it.\n",
    "# This is useful when you want to avoid KeyError exceptions and provide a default value for missing keys.\n",
    "\n",
    "from collections import defaultdict\n",
    "normal_dict = {}\n",
    "try:\n",
    "    print(normal_dict['key'])  # This will raise a KeyError\n",
    "except KeyError:\n",
    "    print(\"KeyError: 'key' does not exist in normal_dict\")\n",
    "\n",
    "# Using a defaultdict\n",
    "default_dict = defaultdict(int)  # Default value for missing keys is 0\n",
    "print(default_dict['key']) \n",
    "\n",
    "listdefault = defaultdict(list)  # Default value for missing keys is an empty list\n",
    "print(listdefault['key'])  # This will not raise an error, it will return an empty list"
   ]
  },
  {
   "cell_type": "markdown",
   "metadata": {},
   "source": [
    "# Sort a string"
   ]
  },
  {
   "cell_type": "code",
   "execution_count": null,
   "metadata": {},
   "outputs": [
    {
     "name": "stdout",
     "output_type": "stream",
     "text": [
      "Original string: python\n",
      "Sorted string: hnopty\n"
     ]
    }
   ],
   "source": [
    "# Function to sort a string\n",
    "# sorted of s will return a list of chars in sorted order and \"\".join will join the list \n",
    "# we dont have sort() in strings\n",
    "\n",
    "def sort_string(s):\n",
    "    return ''.join(sorted(s))\n",
    "\n",
    "# Example usage\n",
    "example_string = \"python\"\n",
    "sorted_string = sort_string(example_string)\n",
    "print(f\"Original string: {example_string}\")\n",
    "print(f\"Sorted string: {sorted_string}\")"
   ]
  },
  {
   "cell_type": "markdown",
   "metadata": {},
   "source": [
    "# Sort list of tuples based on the second element\n"
   ]
  },
  {
   "cell_type": "code",
   "execution_count": 1,
   "metadata": {},
   "outputs": [
    {
     "name": "stdout",
     "output_type": "stream",
     "text": [
      "Descending sorted list: [(1, 3), (2, 2), (4, 1), (5, 0)]\n",
      "Original list: [(1, 3), (4, 1), (2, 2), (5, 0)]\n",
      "Sorted list: [(5, 0), (4, 1), (2, 2), (1, 3)]\n"
     ]
    }
   ],
   "source": [
    "# Example list of tuples\n",
    "tuples_list = [(1, 3), (4, 1), (2, 2), (5, 0)]\n",
    "\n",
    "# Sort the list of tuples based on the second value\n",
    "sorted_tuples = sorted(tuples_list, key=lambda x: x[1])\n",
    "descending_tuples= sorted(tuples_list, key=lambda x: x[1], reverse=True)\n",
    "print(f\"Descending sorted list: {descending_tuples}\")\n",
    "\n",
    "print(f\"Original list: {tuples_list}\")\n",
    "print(f\"Sorted list: {sorted_tuples}\")"
   ]
  },
  {
   "cell_type": "markdown",
   "metadata": {},
   "source": [
    "# frequency dict"
   ]
  },
  {
   "cell_type": "code",
   "execution_count": null,
   "metadata": {},
   "outputs": [
    {
     "name": "stdout",
     "output_type": "stream",
     "text": [
      "defaultdict(<class 'int'>, {1: 2, 2: 2, 3: 2, 4: 2, 5: 2}) method 1\n",
      "{1: 2, 2: 2, 3: 2, 4: 2, 5: 2} method 2\n"
     ]
    }
   ],
   "source": [
    "nums=[1, 2, 3, 4, 5, 1, 2, 3, 4, 5]\n",
    "\n",
    "# method 1\n",
    "\n",
    "freq_dic=defaultdict(int)\n",
    "for i in nums:\n",
    "    freq_dic[i]+=1\n",
    "print(freq_dic,\"method 1\")\n",
    "\n",
    "# method 2\n",
    "\n",
    "count = {}\n",
    "for num in nums:\n",
    "    count[num] = 1 + count.get(num, 0)\n",
    "print(count, \"method 2\")\n",
    "\n"
   ]
  },
  {
   "cell_type": "markdown",
   "metadata": {},
   "source": [
    "# Heap\n",
    "\n",
    "Heaps are binary trees for which `every parent node has a value less than or equal to any of its children`. We refer to this condition as the heap invariant.\n"
   ]
  },
  {
   "cell_type": "code",
   "execution_count": 9,
   "metadata": {},
   "outputs": [
    {
     "name": "stdout",
     "output_type": "stream",
     "text": [
      "[(1, 1)] heap\n",
      "[(1, 1), (2, 2)] heap\n",
      "[(1, 1), (2, 2), (3, 3)] heap\n",
      "[2, 3]\n"
     ]
    }
   ],
   "source": [
    "from typing import List\n",
    "import heapq\n",
    "class Solution:\n",
    "    def topKFrequent(self, nums: List[int], k: int) -> List[int]:\n",
    "        count = {}\n",
    "        for num in nums:\n",
    "            count[num] = 1 + count.get(num, 0)\n",
    "\n",
    "        heap = []\n",
    "        for num in count.keys():\n",
    "            # Push the frequency and number into the heap\n",
    "            heapq.heappush(heap, (count[num], num))\n",
    "            print(heap,\"heap\")\n",
    "            # If the heap size exceeds k, remove the smallest frequency\n",
    "            if len(heap) > k:\n",
    "                heapq.heappop(heap)\n",
    "\n",
    "        res = []\n",
    "        for i in range(k):\n",
    "            res.append(heapq.heappop(heap)[1])\n",
    "        return res\n",
    "\n",
    "nums = [1,2,2,3,3,3]\n",
    "k = 2\n",
    "\n",
    "solution = Solution()\n",
    "result = solution.topKFrequent(nums, k)\n",
    "print(result)  # Output: [2, 3]"
   ]
  },
  {
   "cell_type": "code",
   "execution_count": null,
   "metadata": {},
   "outputs": [],
   "source": []
  }
 ],
 "metadata": {
  "kernelspec": {
   "display_name": "Python 3",
   "language": "python",
   "name": "python3"
  },
  "language_info": {
   "codemirror_mode": {
    "name": "ipython",
    "version": 3
   },
   "file_extension": ".py",
   "mimetype": "text/x-python",
   "name": "python",
   "nbconvert_exporter": "python",
   "pygments_lexer": "ipython3",
   "version": "3.11.0rc1"
  }
 },
 "nbformat": 4,
 "nbformat_minor": 2
}
