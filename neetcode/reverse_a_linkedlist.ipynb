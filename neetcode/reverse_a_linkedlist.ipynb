{
 "cells": [
  {
   "cell_type": "markdown",
   "id": "c402c717",
   "metadata": {},
   "source": [
    "- https://neetcode.io/problems/reverse-a-linked-list?list=neetcode150"
   ]
  },
  {
   "cell_type": "code",
   "execution_count": null,
   "id": "4b71d988",
   "metadata": {},
   "outputs": [],
   "source": [
    "# Definition for singly-linked list.\n",
    "from typing import Optional\n",
    "class ListNode:\n",
    "    def __init__(self, val=0, next=None):\n",
    "        self.val = val\n",
    "        self.next = next\n",
    "\n",
    "class Solution:\n",
    "    def reverseList(self, head: Optional[ListNode]) -> Optional[ListNode]:\n",
    "        if not head:\n",
    "            return None\n",
    "        \n",
    "        newHead=head\n",
    "        if head.next:\n",
    "            newHead=self.reverseList(head.next)\n",
    "            head.next.next=head\n",
    "        head.next=None\n",
    "\n",
    "        return newHead\n",
    "        "
   ]
  },
  {
   "cell_type": "markdown",
   "id": "dee57785",
   "metadata": {},
   "source": [
    "# The idea is:\n",
    "- Base case: if head is None, return None\n",
    "- Store current head as newHead (potential new head of reversed list)\n",
    "- If current node has a next node:\n",
    "  - Recursively reverse the rest of the list and get the new head\n",
    "  - Reverse the link: make head.next point back to current head\n",
    "- Break the forward link by setting head.next = None\n",
    "- Return the new head of the fully reversed list"
   ]
  },
  {
   "cell_type": "markdown",
   "id": "22467609",
   "metadata": {},
   "source": [
    "- step 1    - if not head return None\n",
    "- step 2    - store current head to a newHead variable\n",
    "- step 3    - if head has next, newHead will be set to reverseList(head.next)\n",
    "- step 4    - current head next next will be head\n",
    "- after if  - head next - none\n",
    "- return next head"
   ]
  },
  {
   "cell_type": "markdown",
   "id": "0a1ede33",
   "metadata": {},
   "source": [
    "Time & Space Complexity\n",
    "Time complexity: \n",
    "O\n",
    "(\n",
    "n\n",
    ")\n",
    "O(n)\n",
    "Space complexity: \n",
    "O\n",
    "(\n",
    "n\n",
    ")\n",
    "O(n)"
   ]
  },
  {
   "cell_type": "code",
   "execution_count": null,
   "id": "fcf88ca0",
   "metadata": {},
   "outputs": [],
   "source": [
    "class Solution:\n",
    "    def reverseList(self, head: ListNode) -> ListNode:\n",
    "        prev, curr = None, head\n",
    "\n",
    "        while curr:\n",
    "            temp = curr.next\n",
    "            curr.next = prev\n",
    "            prev = curr\n",
    "            curr = temp\n",
    "        return prev"
   ]
  },
  {
   "cell_type": "markdown",
   "id": "5526054e",
   "metadata": {},
   "source": [
    "Time & Space Complexity\n",
    "Time complexity: \n",
    "O\n",
    "(\n",
    "n\n",
    ")\n",
    "O(n)\n",
    "Space complexity: \n",
    "O\n",
    "(\n",
    "1\n",
    ")\n",
    "O(1)"
   ]
  },
  {
   "cell_type": "markdown",
   "id": "dd1f2fca",
   "metadata": {},
   "source": []
  }
 ],
 "metadata": {
  "kernelspec": {
   "display_name": "Python 3",
   "language": "python",
   "name": "python3"
  },
  "language_info": {
   "name": "python",
   "version": "3.10.12"
  }
 },
 "nbformat": 4,
 "nbformat_minor": 5
}
