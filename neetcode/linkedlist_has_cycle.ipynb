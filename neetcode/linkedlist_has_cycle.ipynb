{
 "cells": [
  {
   "cell_type": "code",
   "execution_count": null,
   "id": "83849bef",
   "metadata": {},
   "outputs": [],
   "source": [
    "\n",
    "class Solution:\n",
    "    def hasCycle(self, head: Optional[ListNode]) -> bool:\n",
    "        seen=set()\n",
    "        cur=head\n",
    "        while cur:\n",
    "            if cur in seen:\n",
    "                return True\n",
    "            seen.add(cur)\n",
    "            cur=cur.next\n",
    "        return False"
   ]
  },
  {
   "cell_type": "markdown",
   "id": "22516275",
   "metadata": {},
   "source": [
    "Time & Space Complexity\n",
    "Time complexity: \n",
    "O\n",
    "(\n",
    "n\n",
    ")\n",
    "O(n)\n",
    "Space complexity: \n",
    "O\n",
    "(\n",
    "n\n",
    ")\n",
    "O(n)"
   ]
  },
  {
   "cell_type": "markdown",
   "id": "137bdd59",
   "metadata": {},
   "source": [
    "- the logic is \n",
    "    - create  a seen set\n",
    "    - set the head to cur variable\n",
    "    - while cur\n",
    "        - if cur in seen, return false\n",
    "        - set  cur to cur.next\n",
    "        - add cur to seen\n",
    "    - return False\n",
    "\n",
    "-  this works because lets say you create two listnode with same value and almost same next, only the memory gets storedin the set, not the actual val and next\n"
   ]
  },
  {
   "cell_type": "code",
   "execution_count": null,
   "id": "5baa39d2",
   "metadata": {},
   "outputs": [],
   "source": [
    "class Solution:\n",
    "    def hasCycle(self, head: Optional[ListNode]) -> bool:\n",
    "        slow,fast=head,head \n",
    "        while fast and fast.next:\n",
    "            slow=slow.next\n",
    "            fast=fast.next.next\n",
    "            if slow==fast:\n",
    "                return True\n",
    "        return False"
   ]
  },
  {
   "cell_type": "markdown",
   "id": "96f1b962",
   "metadata": {},
   "source": [
    "Time & Space Complexity\n",
    "Time complexity: \n",
    "O\n",
    "(\n",
    "n\n",
    ")\n",
    "O(n)\n",
    "Space complexity: \n",
    "O\n",
    "(\n",
    "1\n",
    ")\n",
    "O(1)"
   ]
  },
  {
   "cell_type": "markdown",
   "id": "6d86a843",
   "metadata": {},
   "source": []
  }
 ],
 "metadata": {
  "language_info": {
   "name": "python"
  }
 },
 "nbformat": 4,
 "nbformat_minor": 5
}
