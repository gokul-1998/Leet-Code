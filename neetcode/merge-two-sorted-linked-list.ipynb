{
 "cells": [
  {
   "cell_type": "code",
   "execution_count": null,
   "id": "7e2e8386",
   "metadata": {},
   "outputs": [],
   "source": [
    "# Definition for singly-linked list.\n",
    "from typing import Optional\n",
    "\n",
    "class ListNode:\n",
    "    def __init__(self, val=0, next=None):\n",
    "        self.val = val\n",
    "        self.next = next\n",
    "\n",
    "class Solution:\n",
    "    def mergeTwoLists(self, list1: Optional[ListNode], list2: Optional[ListNode]) -> Optional[ListNode]:\n",
    "        if list1 is None:\n",
    "            return list2\n",
    "        if list2 is None:\n",
    "            return list1\n",
    "        if list1.val<=list2.val:\n",
    "            list1.next=self.mergeTwoLists(list1.next,list2)\n",
    "            return list1\n",
    "        else:\n",
    "            list2.next=self.mergeTwoLists(list1,list2.next)\n",
    "            return list2"
   ]
  },
  {
   "cell_type": "markdown",
   "id": "361ef40d",
   "metadata": {},
   "source": [
    "- the idea is to check if list1 is none, return list2 and the viceversa\n",
    "- if list1.val is less than or equal to list2.val,list1.next=merge2list(list1.next,list2) return list1\n",
    "- same vice versa"
   ]
  },
  {
   "cell_type": "markdown",
   "id": "033c5013",
   "metadata": {},
   "source": [
    "# Algorithm Explanation: Merge Two Sorted Linked Lists\n",
    "\n",
    "## Approach: Recursive Solution\n",
    "\n",
    "The algorithm works by recursively merging two sorted linked lists:\n",
    "\n",
    "1. **Base Cases:**\n",
    "   - If `list1` is `None`, return `list2`\n",
    "   - If `list2` is `None`, return `list1`\n",
    "\n",
    "2. **Recursive Case:**\n",
    "   - If `list1.val <= list2.val`:\n",
    "     - Set `list1.next = mergeTwoLists(list1.next, list2)`\n",
    "     - Return `list1`\n",
    "   - Otherwise:\n",
    "     - Set `list2.next = mergeTwoLists(list1, list2.next)`\n",
    "     - Return `list2`\n",
    "\n",
    "## Time Complexity: O(m + n)\n",
    "## Space Complexity: O(m + n) due to recursion stack\n"
   ]
  },
  {
   "cell_type": "code",
   "execution_count": null,
   "id": "1054ec77",
   "metadata": {},
   "outputs": [],
   "source": [
    "\n",
    "class Solution:\n",
    "    def mergeTwoLists(self, list1: Optional[ListNode], list2: Optional[ListNode]) -> Optional[ListNode]:\n",
    "        dummy=node=ListNode()\n",
    "\n",
    "        while list1 and list2:\n",
    "            if list1.val<=list2.val:\n",
    "                node.next=list1\n",
    "                list1=list1.next\n",
    "            else:\n",
    "                node.next=list2\n",
    "                list2=list2.next\n",
    "            node=node.next\n",
    "        node.next=list1 or list2\n",
    "\n",
    "        return dummy.next"
   ]
  },
  {
   "cell_type": "markdown",
   "id": "32b24535",
   "metadata": {},
   "source": [
    "Time & Space Complexity\n",
    "Time complexity: \n",
    "O\n",
    "(\n",
    "n\n",
    "+\n",
    "m\n",
    ")\n",
    "O(n+m)\n",
    "Space complexity: \n",
    "O\n",
    "(\n",
    "1\n",
    ")\n",
    "O(1)"
   ]
  },
  {
   "cell_type": "code",
   "execution_count": null,
   "id": "039cb223",
   "metadata": {},
   "outputs": [],
   "source": []
  }
 ],
 "metadata": {
  "kernelspec": {
   "display_name": "Python 3",
   "language": "python",
   "name": "python3"
  },
  "language_info": {
   "codemirror_mode": {
    "name": "ipython",
    "version": 3
   },
   "file_extension": ".py",
   "mimetype": "text/x-python",
   "name": "python",
   "nbconvert_exporter": "python",
   "pygments_lexer": "ipython3",
   "version": "3.10.12"
  }
 },
 "nbformat": 4,
 "nbformat_minor": 5
}
